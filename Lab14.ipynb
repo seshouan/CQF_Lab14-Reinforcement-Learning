{
 "cells": [
  {
   "cell_type": "code",
   "execution_count": null,
   "id": "c8e99e55-b86d-4683-915c-c031a07c7f95",
   "metadata": {},
   "outputs": [],
   "source": [
    "import numpy as np\n",
    "import warnings\n",
    "warnings.filterwarnings('ignore')"
   ]
  },
  {
   "cell_type": "code",
   "execution_count": null,
   "id": "114ebd4d-285b-4442-8616-bf2faeea17b2",
   "metadata": {},
   "outputs": [],
   "source": [
    "# R matrix\n",
    "R = np.array([[-1,-1,-1,-1,0,-1],\n",
    "             [-1,-1,-1,0,-1,100],\n",
    "             [-1,-1,-1,0,-1,-1],\n",
    "             [-1,0,0,-1,0,-1],\n",
    "             [-1,0,0,-1,-1,100],\n",
    "             [-1,0,-1,-1,0,100]])\n",
    "\n",
    "print(f'Reward Matrix \\n \\n {R}')"
   ]
  },
  {
   "cell_type": "code",
   "execution_count": null,
   "id": "676f42e5-2b86-4392-995d-d1e0a655e442",
   "metadata": {},
   "outputs": [],
   "source": [
    "# Q Matrix\n",
    "Q = np.array(np.zeros([6,6]))\n",
    "print(f'Q Matrix \\n \\n {Q}')"
   ]
  },
  {
   "cell_type": "code",
   "execution_count": null,
   "id": "05282a8b-8a09-430c-89e2-d1ea3167c0fa",
   "metadata": {},
   "outputs": [],
   "source": [
    "# Initial State - choosen at random\n",
    "initial_state = 1\n",
    "\n",
    "# Gamma (discount paramaters)\n",
    "gamma = 0.8"
   ]
  },
  {
   "cell_type": "code",
   "execution_count": null,
   "id": "cda24e2e-d727-4c22-b37b-0be87608ea51",
   "metadata": {},
   "outputs": [],
   "source": [
    "np.where(R[1]>=0)[0]"
   ]
  },
  {
   "cell_type": "code",
   "execution_count": null,
   "id": "9f00a225-ab88-4f65-af62-b9705a69ad97",
   "metadata": {},
   "outputs": [],
   "source": [
    "# Let's now return all available actions in the state given as an argument\n",
    "def available_actions(state):\n",
    "    current_state_row = R[state]\n",
    "    aaction = np.where(current_state_row >=0)[0]\n",
    "    return aaction\n",
    "\n",
    "# Get available actions in the current state\n",
    "available_act = available_actions(initial_state)\n",
    "available_act"
   ]
  },
  {
   "cell_type": "code",
   "execution_count": null,
   "id": "79922863-39e4-469d-a98e-f6677c1aa3ab",
   "metadata": {},
   "outputs": [],
   "source": [
    "# Next action to be performed\n",
    "def next_action(available_action_range):\n",
    "    naction = int(np.random.choice(available_act,1))\n",
    "    return naction\n",
    "\n",
    "# Action to be performed\n",
    "action = next_action(available_act)\n",
    "action"
   ]
  },
  {
   "cell_type": "code",
   "execution_count": null,
   "id": "479d096c-2478-4479-976b-253d48e6df02",
   "metadata": {},
   "outputs": [],
   "source": [
    "# Update Q Matrix\n",
    "def update(current_state, action, gamma):\n",
    "    max_index = np.where(Q[action,] == np.max(Q[action,]))[0]\n",
    "    \n",
    "    if max_index.shape[0] > 1:\n",
    "        max_index = int(np.random.choice(max_index,size=1))\n",
    "    else:\n",
    "        max_index = int(max_index)\n",
    "    \n",
    "    max_value = Q[action, max_index]\n",
    "    \n",
    "    # Q learning formula \n",
    "    Q[current_state, action] = R[current_state, action] + gamma * max_value\n",
    "    \n",
    "# Update Q-matrix\n",
    "update(initial_state, action, gamma)"
   ]
  },
  {
   "cell_type": "code",
   "execution_count": null,
   "id": "225ecdf6-6ec2-44e7-acfb-e148ab4042e8",
   "metadata": {},
   "outputs": [],
   "source": [
    "# Training for 10000 iterations\n",
    "\n",
    "for i in range(10000):\n",
    "    current_state = np.random.randint(0,int(Q.shape[0]))\n",
    "    available_act = available_actions(current_state)\n",
    "    action = next_action(available_act)\n",
    "    update(current_state, action, gamma)\n",
    "    \n",
    "# Normalize the Q matrix\n",
    "print(f'Trained Q-Matrix \\n \\n {Q/np.max(Q)*100}')"
   ]
  },
  {
   "cell_type": "code",
   "execution_count": null,
   "id": "debebf40-59bb-4d8f-98f3-263c1ee14a0f",
   "metadata": {},
   "outputs": [],
   "source": [
    "current_state = 2\n",
    "steps = [current_state]\n",
    "\n",
    "while current_state !=5:\n",
    "    next_step_index = np.where(Q[current_state,] == np.max(Q[current_state,]))[0]\n",
    "    \n",
    "    if next_step_index.shape[0] > 1:\n",
    "        next_step_index = int(np.random.choice(next_step_index,size=1))\n",
    "    else:\n",
    "        next_step_index = int(next_step_index)\n",
    "        \n",
    "    steps.append(next_step_index)\n",
    "    current_state = next_step_index"
   ]
  },
  {
   "cell_type": "code",
   "execution_count": null,
   "id": "b293e0ab-1854-4046-83d3-6c8b9d4e5ee1",
   "metadata": {},
   "outputs": [],
   "source": [
    "# Print selected sequence of steps\n",
    "print(f'Selected Path {steps}')"
   ]
  },
  {
   "cell_type": "code",
   "execution_count": null,
   "id": "6ac8eb75-bd04-418b-8e0d-f867f19505f6",
   "metadata": {},
   "outputs": [],
   "source": [
    "import gymnasium as gym\n",
    "env = gym.make(\"CartPole-v1\", render_mode=\"human\")\n",
    "\n",
    "env.reset()\n",
    "for _ in range(200):\n",
    "    env.render()\n",
    "    env.step(env.action_space.sample()) # take a random action"
   ]
  },
  {
   "cell_type": "code",
   "execution_count": null,
   "id": "8d2dfe31-1d6b-4832-b5fd-0db63604d91c",
   "metadata": {},
   "outputs": [],
   "source": [
    "# action space\n",
    "env.action_space"
   ]
  },
  {
   "cell_type": "code",
   "execution_count": null,
   "id": "178f7fb1-5021-45d4-a898-fb5c3326579b",
   "metadata": {},
   "outputs": [],
   "source": [
    "# state or observation space\n",
    "env.observation_space"
   ]
  },
  {
   "cell_type": "code",
   "execution_count": null,
   "id": "2f1ad720-fda9-4e67-b0c9-4d27359334ab",
   "metadata": {},
   "outputs": [],
   "source": [
    "# check box bounds\n",
    "print(f'High: {env.observation_space.high}')\n",
    "print(f'Low: {env.observation_space.low}')"
   ]
  },
  {
   "cell_type": "code",
   "execution_count": null,
   "id": "e4fb8aa5-2212-436c-a36e-476fdf897c77",
   "metadata": {},
   "outputs": [],
   "source": [
    "env.reset()\n",
    "for e in range(1, 200):\n",
    "    action = env.action_space.sample()\n",
    "    observation, reward, terminated, truncated, info = env.step(action)                 # stepping forward one step \n",
    "    print(f'step={e:2d} | state={observation} | action={action} | reward={reward}')\n",
    "    if (terminated or truncated) and (e + 1) <= 200:                                    # failure if less than 200 steps\n",
    "        print('*** FAILED ***')\n",
    "        break"
   ]
  },
  {
   "cell_type": "code",
   "execution_count": null,
   "id": "4818dd10-2189-4586-9d08-7baebf22d778",
   "metadata": {},
   "outputs": [],
   "source": []
  },
  {
   "cell_type": "code",
   "execution_count": null,
   "id": "91d130e9-b508-4964-a895-2b3575f3b876",
   "metadata": {},
   "outputs": [],
   "source": []
  },
  {
   "cell_type": "code",
   "execution_count": null,
   "id": "8bbafff1-3665-45a0-ba48-1d0a42826d01",
   "metadata": {},
   "outputs": [],
   "source": []
  },
  {
   "cell_type": "code",
   "execution_count": null,
   "id": "acfd6f60-9302-4640-96b5-b103cbb9e86a",
   "metadata": {},
   "outputs": [],
   "source": []
  },
  {
   "cell_type": "code",
   "execution_count": null,
   "id": "d02bca1d-a9fd-48d9-8bff-242a7e150c98",
   "metadata": {},
   "outputs": [],
   "source": []
  },
  {
   "cell_type": "code",
   "execution_count": null,
   "id": "b2cfb9f0-21da-40de-8550-4a6a27bb07f9",
   "metadata": {},
   "outputs": [],
   "source": []
  },
  {
   "cell_type": "code",
   "execution_count": null,
   "id": "0ae8a428-2dcf-4135-b622-41aa16401e5d",
   "metadata": {},
   "outputs": [],
   "source": []
  },
  {
   "cell_type": "code",
   "execution_count": null,
   "id": "bbced313-a1fd-4363-bf59-309a13bcd8e8",
   "metadata": {},
   "outputs": [],
   "source": []
  },
  {
   "cell_type": "code",
   "execution_count": null,
   "id": "d5819ba4-6101-4558-885f-38d7473e01ce",
   "metadata": {},
   "outputs": [],
   "source": []
  }
 ],
 "metadata": {
  "kernelspec": {
   "display_name": "Python 3 (ipykernel)",
   "language": "python",
   "name": "python3"
  },
  "language_info": {
   "codemirror_mode": {
    "name": "ipython",
    "version": 3
   },
   "file_extension": ".py",
   "mimetype": "text/x-python",
   "name": "python",
   "nbconvert_exporter": "python",
   "pygments_lexer": "ipython3",
   "version": "3.11.3"
  }
 },
 "nbformat": 4,
 "nbformat_minor": 5
}
